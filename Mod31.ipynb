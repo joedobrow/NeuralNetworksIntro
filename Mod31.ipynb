{
 "cells": [
  {
   "cell_type": "code",
   "execution_count": 20,
   "metadata": {},
   "outputs": [],
   "source": [
    "import numpy as np\n",
    "import pandas as pd\n",
    "import matplotlib.pyplot as plt\n",
    "%matplotlib inline\n",
    "from sqlalchemy import create_engine\n",
    "from scipy import stats\n",
    "import statsmodels.api as sm\n",
    "from scipy.stats.mstats import winsorize\n",
    "from sklearn.model_selection import train_test_split\n",
    "from sklearn import tree\n",
    "from sklearn import ensemble\n",
    "from sklearn.model_selection import cross_val_score\n",
    "import time\n",
    "from sklearn.neural_network import MLPClassifier\n",
    "\n",
    "\n",
    "import warnings\n",
    "warnings.filterwarnings('ignore')"
   ]
  },
  {
   "cell_type": "code",
   "execution_count": 3,
   "metadata": {},
   "outputs": [],
   "source": [
    "postgres_user = 'dsbc_student'\n",
    "postgres_pw = '7*.8G9QH21'\n",
    "postgres_host = '142.93.121.174'\n",
    "postgres_port = '5432'\n",
    "postgres_db = 'houseprices'\n",
    "\n",
    "engine = create_engine('postgresql://{}:{}@{}:{}/{}'.format(\n",
    "    postgres_user, postgres_pw, postgres_host, postgres_port, postgres_db))\n",
    "df = pd.read_sql_query('select * from houseprices',con=engine)\n",
    "\n",
    "engine.dispose()\n"
   ]
  },
  {
   "cell_type": "code",
   "execution_count": 4,
   "metadata": {},
   "outputs": [],
   "source": [
    "clean_df = df.copy()\n",
    "clean_df.alley.unique()\n",
    "clean_df.alley.fillna('None', inplace=True)\n",
    "clean_df.lotfrontage.fillna(0, inplace=True)\n",
    "clean_df.masvnrtype.fillna('None', inplace=True)\n",
    "clean_df.masvnrarea.fillna(0.0, inplace=True)\n",
    "clean_df.bsmtqual.fillna('NA', inplace=True)\n",
    "clean_df.bsmtcond.fillna('NA', inplace=True)\n",
    "clean_df.bsmtexposure.fillna('NA', inplace=True)\n",
    "clean_df.bsmtfintype1.fillna('NA', inplace=True)\n",
    "clean_df.bsmtfintype2.fillna('NA', inplace=True)\n",
    "clean_df.bsmtexposure.fillna('NA', inplace=True)\n",
    "clean_df.electrical.fillna('SBrkr', inplace=True)\n",
    "clean_df.fireplacequ.fillna('NA', inplace=True)\n",
    "clean_df.garagetype.fillna('NA', inplace=True)\n",
    "clean_df.garageyrblt.fillna('NA', inplace=True)\n",
    "clean_df.garagefinish.fillna('NA', inplace=True)\n",
    "clean_df.garagequal.fillna('NA', inplace=True)\n",
    "clean_df.garagecond.fillna('NA', inplace=True)\n",
    "clean_df.poolqc.fillna('NA', inplace=True)\n",
    "clean_df.fence.fillna('NA', inplace=True)\n",
    "clean_df.miscfeature.fillna('NA', inplace=True)"
   ]
  },
  {
   "cell_type": "code",
   "execution_count": 5,
   "metadata": {},
   "outputs": [],
   "source": [
    "feature_df = clean_df[['lotarea', 'overallqual']].copy()\n",
    "bldgtype_list = []\n",
    "for i in df.bldgtype:\n",
    "    if i == '2fmCon':\n",
    "        bldgtype_list.append('Duplex')\n",
    "    else:\n",
    "        bldgtype_list.append(i)\n",
    "clean_df['bldgtype'] = bldgtype_list\n",
    "x = pd.get_dummies(clean_df.bldgtype, drop_first=True).copy()\n",
    "for i in range(len(clean_df.bldgtype.unique()) - 1):\n",
    "    feature_df['bldgtype' + clean_df.bldgtype.unique()[i + 1]] = x.iloc[:,i]"
   ]
  },
  {
   "cell_type": "code",
   "execution_count": 6,
   "metadata": {},
   "outputs": [],
   "source": [
    "keywords = ['garagequal', 'kitchenqual', 'bsmtcond', 'bsmtqual', 'exterqual' ]\n",
    "for word in keywords:\n",
    "    nums = []\n",
    "    for row in clean_df[word]:\n",
    "        if row == 'Fa':\n",
    "            nums.append(1)\n",
    "        elif row == 'TA':\n",
    "            nums.append(2)\n",
    "        elif row == 'Gd':\n",
    "            nums.append(3)\n",
    "        elif row == 'Ex':\n",
    "            nums.append(4)\n",
    "        else:\n",
    "            nums.append(0)\n",
    "    feature_df[word] = nums"
   ]
  },
  {
   "cell_type": "code",
   "execution_count": 7,
   "metadata": {},
   "outputs": [],
   "source": [
    "feature_df[['garagecars', 'firstflrsf', 'fullbath', 'totrmsabvgrd', 'yearbuilt', 'yearremodadd', 'fireplaces', 'bsmtfinsf1', 'wooddecksf', 'secondflrsf']] = clean_df[['garagecars', 'firstflrsf', 'fullbath', 'totrmsabvgrd', 'yearbuilt', 'yearremodadd', 'fireplaces', 'bsmtfinsf1', 'wooddecksf', 'secondflrsf']]\n",
    "feature_df['isWDsale'] = x.iloc[:,-1]\n",
    "feature_df['saleprice'] = clean_df.saleprice"
   ]
  },
  {
   "cell_type": "code",
   "execution_count": 15,
   "metadata": {},
   "outputs": [
    {
     "data": {
      "text/html": [
       "<div>\n",
       "<style scoped>\n",
       "    .dataframe tbody tr th:only-of-type {\n",
       "        vertical-align: middle;\n",
       "    }\n",
       "\n",
       "    .dataframe tbody tr th {\n",
       "        vertical-align: top;\n",
       "    }\n",
       "\n",
       "    .dataframe thead th {\n",
       "        text-align: right;\n",
       "    }\n",
       "</style>\n",
       "<table border=\"1\" class=\"dataframe\">\n",
       "  <thead>\n",
       "    <tr style=\"text-align: right;\">\n",
       "      <th></th>\n",
       "      <th>lotarea</th>\n",
       "      <th>overallqual</th>\n",
       "      <th>bldgtypeDuplex</th>\n",
       "      <th>bldgtypeTwnhsE</th>\n",
       "      <th>bldgtypeTwnhs</th>\n",
       "      <th>garagequal</th>\n",
       "      <th>kitchenqual</th>\n",
       "      <th>bsmtcond</th>\n",
       "      <th>bsmtqual</th>\n",
       "      <th>exterqual</th>\n",
       "      <th>...</th>\n",
       "      <th>fullbath</th>\n",
       "      <th>totrmsabvgrd</th>\n",
       "      <th>yearbuilt</th>\n",
       "      <th>yearremodadd</th>\n",
       "      <th>fireplaces</th>\n",
       "      <th>bsmtfinsf1</th>\n",
       "      <th>wooddecksf</th>\n",
       "      <th>secondflrsf</th>\n",
       "      <th>isWDsale</th>\n",
       "      <th>saleprice</th>\n",
       "    </tr>\n",
       "  </thead>\n",
       "  <tbody>\n",
       "    <tr>\n",
       "      <th>0</th>\n",
       "      <td>8450</td>\n",
       "      <td>7</td>\n",
       "      <td>0</td>\n",
       "      <td>0</td>\n",
       "      <td>0</td>\n",
       "      <td>2</td>\n",
       "      <td>3</td>\n",
       "      <td>2</td>\n",
       "      <td>3</td>\n",
       "      <td>3</td>\n",
       "      <td>...</td>\n",
       "      <td>2</td>\n",
       "      <td>8</td>\n",
       "      <td>2003</td>\n",
       "      <td>2003</td>\n",
       "      <td>0</td>\n",
       "      <td>706</td>\n",
       "      <td>0</td>\n",
       "      <td>854</td>\n",
       "      <td>0</td>\n",
       "      <td>208500</td>\n",
       "    </tr>\n",
       "    <tr>\n",
       "      <th>1</th>\n",
       "      <td>9600</td>\n",
       "      <td>6</td>\n",
       "      <td>0</td>\n",
       "      <td>0</td>\n",
       "      <td>0</td>\n",
       "      <td>2</td>\n",
       "      <td>2</td>\n",
       "      <td>2</td>\n",
       "      <td>3</td>\n",
       "      <td>2</td>\n",
       "      <td>...</td>\n",
       "      <td>2</td>\n",
       "      <td>6</td>\n",
       "      <td>1976</td>\n",
       "      <td>1976</td>\n",
       "      <td>1</td>\n",
       "      <td>978</td>\n",
       "      <td>298</td>\n",
       "      <td>0</td>\n",
       "      <td>0</td>\n",
       "      <td>181500</td>\n",
       "    </tr>\n",
       "    <tr>\n",
       "      <th>2</th>\n",
       "      <td>11250</td>\n",
       "      <td>7</td>\n",
       "      <td>0</td>\n",
       "      <td>0</td>\n",
       "      <td>0</td>\n",
       "      <td>2</td>\n",
       "      <td>3</td>\n",
       "      <td>2</td>\n",
       "      <td>3</td>\n",
       "      <td>3</td>\n",
       "      <td>...</td>\n",
       "      <td>2</td>\n",
       "      <td>6</td>\n",
       "      <td>2001</td>\n",
       "      <td>2002</td>\n",
       "      <td>1</td>\n",
       "      <td>486</td>\n",
       "      <td>0</td>\n",
       "      <td>866</td>\n",
       "      <td>0</td>\n",
       "      <td>223500</td>\n",
       "    </tr>\n",
       "    <tr>\n",
       "      <th>3</th>\n",
       "      <td>9550</td>\n",
       "      <td>7</td>\n",
       "      <td>0</td>\n",
       "      <td>0</td>\n",
       "      <td>0</td>\n",
       "      <td>2</td>\n",
       "      <td>3</td>\n",
       "      <td>3</td>\n",
       "      <td>2</td>\n",
       "      <td>2</td>\n",
       "      <td>...</td>\n",
       "      <td>1</td>\n",
       "      <td>7</td>\n",
       "      <td>1915</td>\n",
       "      <td>1970</td>\n",
       "      <td>1</td>\n",
       "      <td>216</td>\n",
       "      <td>0</td>\n",
       "      <td>756</td>\n",
       "      <td>0</td>\n",
       "      <td>140000</td>\n",
       "    </tr>\n",
       "    <tr>\n",
       "      <th>4</th>\n",
       "      <td>14260</td>\n",
       "      <td>8</td>\n",
       "      <td>0</td>\n",
       "      <td>0</td>\n",
       "      <td>0</td>\n",
       "      <td>2</td>\n",
       "      <td>3</td>\n",
       "      <td>2</td>\n",
       "      <td>3</td>\n",
       "      <td>3</td>\n",
       "      <td>...</td>\n",
       "      <td>2</td>\n",
       "      <td>9</td>\n",
       "      <td>2000</td>\n",
       "      <td>2000</td>\n",
       "      <td>1</td>\n",
       "      <td>655</td>\n",
       "      <td>192</td>\n",
       "      <td>1053</td>\n",
       "      <td>0</td>\n",
       "      <td>250000</td>\n",
       "    </tr>\n",
       "  </tbody>\n",
       "</table>\n",
       "<p>5 rows × 22 columns</p>\n",
       "</div>"
      ],
      "text/plain": [
       "   lotarea  overallqual  bldgtypeDuplex  bldgtypeTwnhsE  bldgtypeTwnhs  \\\n",
       "0     8450            7               0               0              0   \n",
       "1     9600            6               0               0              0   \n",
       "2    11250            7               0               0              0   \n",
       "3     9550            7               0               0              0   \n",
       "4    14260            8               0               0              0   \n",
       "\n",
       "   garagequal  kitchenqual  bsmtcond  bsmtqual  exterqual  ...  fullbath  \\\n",
       "0           2            3         2         3          3  ...         2   \n",
       "1           2            2         2         3          2  ...         2   \n",
       "2           2            3         2         3          3  ...         2   \n",
       "3           2            3         3         2          2  ...         1   \n",
       "4           2            3         2         3          3  ...         2   \n",
       "\n",
       "   totrmsabvgrd  yearbuilt  yearremodadd  fireplaces  bsmtfinsf1  wooddecksf  \\\n",
       "0             8       2003          2003           0         706           0   \n",
       "1             6       1976          1976           1         978         298   \n",
       "2             6       2001          2002           1         486           0   \n",
       "3             7       1915          1970           1         216           0   \n",
       "4             9       2000          2000           1         655         192   \n",
       "\n",
       "   secondflrsf  isWDsale  saleprice  \n",
       "0          854         0     208500  \n",
       "1            0         0     181500  \n",
       "2          866         0     223500  \n",
       "3          756         0     140000  \n",
       "4         1053         0     250000  \n",
       "\n",
       "[5 rows x 22 columns]"
      ]
     },
     "execution_count": 15,
     "metadata": {},
     "output_type": "execute_result"
    }
   ],
   "source": [
    "feature_df.head()"
   ]
  },
  {
   "cell_type": "code",
   "execution_count": 18,
   "metadata": {},
   "outputs": [],
   "source": [
    "med = np.median(feature_df.saleprice)\n",
    "binary_features = []\n",
    "\n",
    "for i in feature_df.saleprice:\n",
    "    if i >= med:\n",
    "        binary_features.append(1)\n",
    "    else:\n",
    "        binary_features.append(0)\n",
    "        \n",
    "feature_df['saleprice'] = binary_features"
   ]
  },
  {
   "cell_type": "code",
   "execution_count": 24,
   "metadata": {},
   "outputs": [
    {
     "name": "stdout",
     "output_type": "stream",
     "text": [
      "1.15 Seconds\n",
      "[0.75269993 0.80022428 0.75694831 0.71761128 0.74928686 0.70747599]\n",
      "0.7473744412598462\n"
     ]
    }
   ],
   "source": [
    "X = feature_df.drop('saleprice', 1)\n",
    "Y = feature_df.saleprice\n",
    "\n",
    "start_time = time.time()\n",
    "rfr = ensemble.RandomForestRegressor(n_estimators=40)\n",
    "forest_results = cross_val_score(rfr, X, Y, cv=6)\n",
    "end_time = time.time()\n",
    "print(round(end_time - start_time, 2), 'Seconds')\n",
    "print(forest_results)\n",
    "print(forest_results.sum()/6)"
   ]
  },
  {
   "cell_type": "code",
   "execution_count": 74,
   "metadata": {},
   "outputs": [
    {
     "name": "stdout",
     "output_type": "stream",
     "text": [
      "0.89 Seconds\n",
      "[0.66803279 0.7295082  0.79835391 0.73251029 0.77777778 0.75720165]\n",
      "Average:  0.7438974341676223\n"
     ]
    }
   ],
   "source": [
    "start_time = time.time()\n",
    "mlp = MLPClassifier(hidden_layer_sizes=(200,10), alpha=.001, random_state=1)\n",
    "results = cross_val_score(mlp, X, Y, cv=6)\n",
    "end_time = time.time()\n",
    "print(round(end_time - start_time, 2), 'Seconds')\n",
    "print(results)\n",
    "print('Average: ', results.sum()/6)"
   ]
  },
  {
   "cell_type": "code",
   "execution_count": 38,
   "metadata": {},
   "outputs": [],
   "source": [
    "results = []\n",
    "for i in range(4):\n",
    "    for j in range(4):\n",
    "        mlp = MLPClassifier(hidden_layer_sizes=(i*10+1,j*10+1))\n",
    "        results.append(cross_val_score(mlp, X, Y, cv=6).sum()/6)"
   ]
  },
  {
   "cell_type": "code",
   "execution_count": 75,
   "metadata": {},
   "outputs": [],
   "source": [
    "from sklearn.neural_network import MLPClassifier\n",
    "mlp = MLPClassifier(max_iter=100)\n",
    "\n",
    "parameter_space = {\n",
    "    'hidden_layer_sizes': [(50,50,50), (50,100,50), (100,)],\n",
    "    'activation': ['tanh', 'relu'],\n",
    "    'solver': ['sgd', 'adam'],\n",
    "    'alpha': [0.0001, 0.05],\n",
    "    'learning_rate': ['constant','adaptive'],\n",
    "}"
   ]
  },
  {
   "cell_type": "code",
   "execution_count": 76,
   "metadata": {},
   "outputs": [
    {
     "data": {
      "text/plain": [
       "GridSearchCV(cv=3, error_score='raise',\n",
       "       estimator=MLPClassifier(activation='relu', alpha=0.0001, batch_size='auto', beta_1=0.9,\n",
       "       beta_2=0.999, early_stopping=False, epsilon=1e-08,\n",
       "       hidden_layer_sizes=(100,), learning_rate='constant',\n",
       "       learning_rate_init=0.001, max_iter=100, momentum=0.9,\n",
       "       nesterovs_momentum=True, power_t=0.5, random_state=None,\n",
       "       shuffle=True, solver='adam', tol=0.0001, validation_fraction=0.1,\n",
       "       verbose=False, warm_start=False),\n",
       "       fit_params=None, iid=True, n_jobs=-2,\n",
       "       param_grid={'hidden_layer_sizes': [(50, 50, 50), (50, 100, 50), (100,)], 'activation': ['tanh', 'relu'], 'solver': ['sgd', 'adam'], 'alpha': [0.0001, 0.05], 'learning_rate': ['constant', 'adaptive']},\n",
       "       pre_dispatch='2*n_jobs', refit=True, return_train_score='warn',\n",
       "       scoring=None, verbose=0)"
      ]
     },
     "execution_count": 76,
     "metadata": {},
     "output_type": "execute_result"
    }
   ],
   "source": [
    "from sklearn.model_selection import GridSearchCV\n",
    "\n",
    "clf = GridSearchCV(mlp, parameter_space, n_jobs=-2, cv=3)\n",
    "clf.fit(X, Y)"
   ]
  },
  {
   "cell_type": "code",
   "execution_count": 77,
   "metadata": {},
   "outputs": [
    {
     "data": {
      "text/plain": [
       "{'activation': 'relu',\n",
       " 'alpha': 0.0001,\n",
       " 'hidden_layer_sizes': (50, 50, 50),\n",
       " 'learning_rate': 'constant',\n",
       " 'solver': 'adam'}"
      ]
     },
     "execution_count": 77,
     "metadata": {},
     "output_type": "execute_result"
    }
   ],
   "source": [
    "clf.best_params_"
   ]
  },
  {
   "cell_type": "code",
   "execution_count": 86,
   "metadata": {},
   "outputs": [
    {
     "name": "stdout",
     "output_type": "stream",
     "text": [
      "26.04 Seconds\n",
      "[0.68918919 0.7972973  0.7027027  0.81081081 0.67567568 0.91891892\n",
      " 0.78378378 0.86486486 0.73972603 0.78082192 0.57534247 0.76712329\n",
      " 0.73611111 0.76388889 0.73611111 0.72222222 0.625      0.54166667\n",
      " 0.61111111 0.76388889]\n",
      "Average:  0.7303128470936691\n"
     ]
    }
   ],
   "source": [
    "start_time = time.time()\n",
    "mlp = MLPClassifier(hidden_layer_sizes=(1000,200,50), alpha=.0001)\n",
    "results = cross_val_score(mlp, X, Y, cv=20)\n",
    "end_time = time.time()\n",
    "print(round(end_time - start_time, 2), 'Seconds')\n",
    "print(results)\n",
    "print('Average: ', results.sum()/20)"
   ]
  },
  {
   "cell_type": "code",
   "execution_count": null,
   "metadata": {},
   "outputs": [],
   "source": [
    "# Tried the gridsearch results and then played with a bunch of hidden layer sizes but\n",
    "# couldn't consistentl"
   ]
  }
 ],
 "metadata": {
  "kernelspec": {
   "display_name": "Python 3",
   "language": "python",
   "name": "python3"
  },
  "language_info": {
   "codemirror_mode": {
    "name": "ipython",
    "version": 3
   },
   "file_extension": ".py",
   "mimetype": "text/x-python",
   "name": "python",
   "nbconvert_exporter": "python",
   "pygments_lexer": "ipython3",
   "version": "3.7.3"
  }
 },
 "nbformat": 4,
 "nbformat_minor": 2
}
